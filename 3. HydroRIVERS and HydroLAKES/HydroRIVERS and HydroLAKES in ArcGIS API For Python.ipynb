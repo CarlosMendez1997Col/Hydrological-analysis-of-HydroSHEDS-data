{
 "cells": [
  {
   "cell_type": "markdown",
   "metadata": {
    "heading_collapsed": true
   },
   "source": [
    "# HydroRIVERS and HydroLAKES"
   ]
  },
  {
   "cell_type": "markdown",
   "metadata": {},
   "source": [
    "# Import libraries"
   ]
  },
  {
   "cell_type": "code",
   "execution_count": 1,
   "metadata": {},
   "outputs": [],
   "source": [
    "import arcpy\n",
    "from arcpy.sa import*\n",
    "from arcpy.ia import*\n",
    "from arcgis.raster.functions import *\n",
    "\n",
    "# connect to GIS\n",
    "from arcgis.gis import GIS\n",
    "from arcgis.geometry import SpatialReference\n",
    "\n",
    "import pandas as pd\n",
    "import os\n",
    "from copy import deepcopy"
   ]
  },
  {
   "cell_type": "markdown",
   "metadata": {},
   "source": [
    "# Login in ArcGIS Online"
   ]
  },
  {
   "cell_type": "code",
   "execution_count": 3,
   "metadata": {},
   "outputs": [
    {
     "name": "stdout",
     "output_type": "stream",
     "text": [
      "Enter username: Camendezv_UDFJC\n",
      "Enter your password: ········\n"
     ]
    }
   ],
   "source": [
    "# Prompt user to provide username and password\n",
    "import getpass\n",
    "username = input('Enter username: ')\n",
    "password = getpass.getpass(\"Enter your password: \") \n",
    "gis = GIS(\"https://udistritalfjc.maps.arcgis.com/home\", username, password)"
   ]
  },
  {
   "cell_type": "markdown",
   "metadata": {},
   "source": [
    "# Import the Colombia boundary"
   ]
  },
  {
   "cell_type": "markdown",
   "metadata": {},
   "source": [
    "<div class=\"alert alert-info\">\n",
    "    <b>World Countries Generalized:</b> \n",
    "\n",
    "World Countries Generalized represents generalized boundaries for the countries of the world as of August 2022. The generalized political boundaries improve draw performance and effectiveness at a global or continental level. This layer is best viewed out beyond a scale of 1:5,000,000.\n",
    "    \n",
    "For more information, please visit the following link:[World Countries Generalized](https://hub.arcgis.com/datasets/esri::world-countries-generalized/about)\n",
    "\n",
    "</div>\n"
   ]
  },
  {
   "cell_type": "code",
   "execution_count": 5,
   "metadata": {},
   "outputs": [
    {
     "data": {
      "text/plain": [
       "'C:\\\\Users\\\\57320\\\\Dropbox\\\\Mi PC (LAPTOP-5K2HI422)\\\\Desktop\\\\Article Water Resources\\\\World_Countries_(Generalized)'"
      ]
     },
     "execution_count": 5,
     "metadata": {},
     "output_type": "execute_result"
    }
   ],
   "source": [
    "new_path = os.chdir(r'C:/Users/57320/Dropbox/Mi PC (LAPTOP-5K2HI422)/Desktop/Article Water Resources/World_Countries_(Generalized)')\n",
    "new_path = os.getcwd()\n",
    "new_path"
   ]
  },
  {
   "cell_type": "code",
   "execution_count": 6,
   "metadata": {},
   "outputs": [
    {
     "data": {
      "text/html": [
       "<div>\n",
       "<style scoped>\n",
       "    .dataframe tbody tr th:only-of-type {\n",
       "        vertical-align: middle;\n",
       "    }\n",
       "\n",
       "    .dataframe tbody tr th {\n",
       "        vertical-align: top;\n",
       "    }\n",
       "\n",
       "    .dataframe thead th {\n",
       "        text-align: right;\n",
       "    }\n",
       "</style>\n",
       "<table border=\"1\" class=\"dataframe\">\n",
       "  <thead>\n",
       "    <tr style=\"text-align: right;\">\n",
       "      <th></th>\n",
       "      <th>FID</th>\n",
       "      <th>COUNTRY</th>\n",
       "      <th>SHAPE</th>\n",
       "    </tr>\n",
       "  </thead>\n",
       "  <tbody>\n",
       "    <tr>\n",
       "      <th>0</th>\n",
       "      <td>0</td>\n",
       "      <td>Afghanistan</td>\n",
       "      <td>{\"rings\": [[[61.27655419005816, 35.60724507982...</td>\n",
       "    </tr>\n",
       "    <tr>\n",
       "      <th>1</th>\n",
       "      <td>1</td>\n",
       "      <td>Albania</td>\n",
       "      <td>{\"rings\": [[[19.570827072949953, 41.6852732197...</td>\n",
       "    </tr>\n",
       "    <tr>\n",
       "      <th>2</th>\n",
       "      <td>2</td>\n",
       "      <td>Algeria</td>\n",
       "      <td>{\"rings\": [[[4.603354061126424, 36.88790902877...</td>\n",
       "    </tr>\n",
       "    <tr>\n",
       "      <th>3</th>\n",
       "      <td>3</td>\n",
       "      <td>American Samoa</td>\n",
       "      <td>{\"rings\": [[[-170.74390000440516, -14.37555495...</td>\n",
       "    </tr>\n",
       "    <tr>\n",
       "      <th>4</th>\n",
       "      <td>4</td>\n",
       "      <td>Andorra</td>\n",
       "      <td>{\"rings\": [[[1.4458361408305793, 42.6019449756...</td>\n",
       "    </tr>\n",
       "    <tr>\n",
       "      <th>...</th>\n",
       "      <td>...</td>\n",
       "      <td>...</td>\n",
       "      <td>...</td>\n",
       "    </tr>\n",
       "    <tr>\n",
       "      <th>246</th>\n",
       "      <td>246</td>\n",
       "      <td>Vietnam</td>\n",
       "      <td>{\"rings\": [[[107.07896331770007, 17.1080360327...</td>\n",
       "    </tr>\n",
       "    <tr>\n",
       "      <th>247</th>\n",
       "      <td>247</td>\n",
       "      <td>Wallis and Futuna</td>\n",
       "      <td>{\"rings\": [[[-178.06081802883446, -14.32389091...</td>\n",
       "    </tr>\n",
       "    <tr>\n",
       "      <th>248</th>\n",
       "      <td>248</td>\n",
       "      <td>Yemen</td>\n",
       "      <td>{\"rings\": [[[47.25444519463059, 13.61528205001...</td>\n",
       "    </tr>\n",
       "    <tr>\n",
       "      <th>249</th>\n",
       "      <td>249</td>\n",
       "      <td>Zambia</td>\n",
       "      <td>{\"rings\": [[[30.213018093021223, -14.981717930...</td>\n",
       "    </tr>\n",
       "    <tr>\n",
       "      <th>250</th>\n",
       "      <td>250</td>\n",
       "      <td>Zimbabwe</td>\n",
       "      <td>{\"rings\": [[[32.488873287766296, -21.344445962...</td>\n",
       "    </tr>\n",
       "  </tbody>\n",
       "</table>\n",
       "<p>251 rows × 3 columns</p>\n",
       "</div>"
      ],
      "text/plain": [
       "     FID            COUNTRY                                              SHAPE\n",
       "0      0        Afghanistan  {\"rings\": [[[61.27655419005816, 35.60724507982...\n",
       "1      1            Albania  {\"rings\": [[[19.570827072949953, 41.6852732197...\n",
       "2      2            Algeria  {\"rings\": [[[4.603354061126424, 36.88790902877...\n",
       "3      3     American Samoa  {\"rings\": [[[-170.74390000440516, -14.37555495...\n",
       "4      4            Andorra  {\"rings\": [[[1.4458361408305793, 42.6019449756...\n",
       "..   ...                ...                                                ...\n",
       "246  246            Vietnam  {\"rings\": [[[107.07896331770007, 17.1080360327...\n",
       "247  247  Wallis and Futuna  {\"rings\": [[[-178.06081802883446, -14.32389091...\n",
       "248  248              Yemen  {\"rings\": [[[47.25444519463059, 13.61528205001...\n",
       "249  249             Zambia  {\"rings\": [[[30.213018093021223, -14.981717930...\n",
       "250  250           Zimbabwe  {\"rings\": [[[32.488873287766296, -21.344445962...\n",
       "\n",
       "[251 rows x 3 columns]"
      ]
     },
     "execution_count": 6,
     "metadata": {},
     "output_type": "execute_result"
    }
   ],
   "source": [
    "World_boundary = r\"World_Countries_Generalized.shp\"\n",
    "boundaries = pd.DataFrame.spatial.from_featureclass(os.path.join(new_path, World_boundary), sr=SpatialReference(4326).as_arcpy)\n",
    "boundaries.drop(labels=[\"ISO\",\"COUNTRYAFF\", \"AFF_ISO\"], axis=1, inplace=True)\n",
    "boundaries"
   ]
  },
  {
   "cell_type": "code",
   "execution_count": 7,
   "metadata": {},
   "outputs": [
    {
     "data": {
      "text/html": [
       "<div>\n",
       "<style scoped>\n",
       "    .dataframe tbody tr th:only-of-type {\n",
       "        vertical-align: middle;\n",
       "    }\n",
       "\n",
       "    .dataframe tbody tr th {\n",
       "        vertical-align: top;\n",
       "    }\n",
       "\n",
       "    .dataframe thead th {\n",
       "        text-align: right;\n",
       "    }\n",
       "</style>\n",
       "<table border=\"1\" class=\"dataframe\">\n",
       "  <thead>\n",
       "    <tr style=\"text-align: right;\">\n",
       "      <th></th>\n",
       "      <th>FID</th>\n",
       "      <th>COUNTRY</th>\n",
       "      <th>SHAPE</th>\n",
       "    </tr>\n",
       "  </thead>\n",
       "  <tbody>\n",
       "    <tr>\n",
       "      <th>50</th>\n",
       "      <td>50</td>\n",
       "      <td>Colombia</td>\n",
       "      <td>{\"rings\": [[[-74.86080882326962, 11.1254911813...</td>\n",
       "    </tr>\n",
       "  </tbody>\n",
       "</table>\n",
       "</div>"
      ],
      "text/plain": [
       "    FID   COUNTRY                                              SHAPE\n",
       "50   50  Colombia  {\"rings\": [[[-74.86080882326962, 11.1254911813..."
      ]
     },
     "execution_count": 7,
     "metadata": {},
     "output_type": "execute_result"
    }
   ],
   "source": [
    "# select the Colombia boundary\n",
    "boundary_col = boundaries.loc[boundaries.COUNTRY == 'Colombia']\n",
    "boundary_col"
   ]
  },
  {
   "cell_type": "code",
   "execution_count": 8,
   "metadata": {},
   "outputs": [
    {
     "data": {
      "text/html": [
       "<div class='gpresult'><h2>Messages</h2><div id='messages' data-messages='[\"DEBUG: GPEventTiming START: GPUtilities::TestForDisconnectingOutputLayers for ExportFeatures_conversion\",\"DEBUG: GPEventTiming START: GPUtilities::DisconnectDataLayer C:\\\\Users\\\\57320\\\\Dropbox\\\\Mi PC (LAPTOP-5K2HI422)\\\\Desktop\\\\Article Water Resources\\\\WaterResources\\\\ColombiaBoundary.shp\",\"DEBUG: GPEventTiming END: GPUtilities::TestForDisconnectingOutputLayers for ExportFeatures_conversion (elapsed time 0,015000)\",\"Start Time: jueves, 9 de enero de 2025 15:10:32\",\"DEBUG: GPEventTiming ProcessExecution PreExecution time 0,577000\",\"Executing: ExportFeatures \\\"C:\\\\Users\\\\57320\\\\Dropbox\\\\Mi PC (LAPTOP-5K2HI422)\\\\Desktop\\\\Article Water Resources\\\\World_Countries_(Generalized)\\\\World_Countries_Generalized.shp\\\" \\\"C:\\\\Users\\\\57320\\\\Dropbox\\\\Mi PC (LAPTOP-5K2HI422)\\\\Desktop\\\\Article Water Resources\\\\WaterResources\\\\ColombiaBoundary.shp\\\" \\\"COUNTRY = &#39;Colombia&#39;\\\" NOT_USE_ALIAS \\\"COUNTRY \\\"COUNTRY\\\" true true false 50 Text 0 0,First,#,C:\\\\Users\\\\57320\\\\Dropbox\\\\Mi PC (LAPTOP-5K2HI422)\\\\Desktop\\\\Article Water Resources\\\\World_Countries_(Generalized)\\\\World_Countries_Generalized.shp,COUNTRY,0,49\\\" #\",\"DEBUG: GPEventTiming START: GPFunctionTool::Execute\",\"DEBUG: GPEventTiming GPFunctionTool::Execute after ValidateValues (elapsed time 0,002000)\",\"DEBUG: GPEventTiming GPFunctionTool::Execute before function execute (elapsed time 0,012000)\",\"DEBUG: GPEventTiming GPFunctionTool::Execute after function execute (elapsed time 0,302000)\",\"DEBUG: GPEventTiming END: GPFunctionTool::Execute (elapsed time 0,302000)\",\"DEBUG: GPEventTiming ProcessExecution Execution time 0,328000\",\"DEBUG: GPEventTiming START: GPUtilities::TestForReconnectingOutputLayers for ExportFeatures_conversion\",\"DEBUG: GPEventTiming START: GPUtilities::CleanUpDataLayers index 0\",\"DEBUG: GPEventTiming END: GPUtilities::CleanUpDataLayers index 0 (elapsed time 0,000000)\",\"DEBUG: GPEventTiming START: GPUtilities::CleanUpDataLayers index -10\",\"DEBUG: GPEventTiming END: GPUtilities::CleanUpDataLayers index -10 (elapsed time 0,001000)\",\"DEBUG: GPEventTiming END: GPUtilities::TestForReconnectingOutputLayers for ExportFeatures_conversion (elapsed time 0,026000)\",\"DEBUG: GPEventTiming LayerManagementClass::ProcessOutputsInternal START\",\"DEBUG: GPEventTiming LayerManagementClass::ProcessGPValueModelBuilder START: C:\\\\Users\\\\57320\\\\Dropbox\\\\Mi PC (LAPTOP-5K2HI422)\\\\Desktop\\\\Article Water Resources\\\\WaterResources\\\\ColombiaBoundary.shp\",\"DEBUG: GPEventTiming LayerManagementClass::ProcessGPValueModelBuilder END: C:\\\\Users\\\\57320\\\\Dropbox\\\\Mi PC (LAPTOP-5K2HI422)\\\\Desktop\\\\Article Water Resources\\\\WaterResources\\\\ColombiaBoundary.shp (elapsed time 2,563000\",\"DEBUG: GPEventTiming LayerManagementClass::ProcessOutputsInternal after ProcessGPValueModelBuilder: (elapsed time 2,564000)\",\"DEBUG: GPEventTiming LayerManagementClass::ProcessOutputsInternal END: (elapsed time 2,566000)\",\"DEBUG: GPEventTiming ProcessExecution ProcessOutputs time (part of PostExecution time) 2,574000\",\"Succeeded at jueves, 9 de enero de 2025 15:10:36 (Elapsed Time: 3,52 seconds)\",\"DEBUG: GPEventTiming ProcessExecution PostExecution time 2,610000\",\"DEBUG: GPEventTiming ProcessExecution TotalExecution time 3,515000\"]' data-show='true'><div id = 'default' /></div></div>"
      ],
      "text/plain": [
       "<Result 'C:\\\\Users\\\\57320\\\\Dropbox\\\\Mi PC (LAPTOP-5K2HI422)\\\\Desktop\\\\Article Water Resources\\\\WaterResources\\\\ColombiaBoundary.shp'>"
      ]
     },
     "execution_count": 8,
     "metadata": {},
     "output_type": "execute_result"
    }
   ],
   "source": [
    "arcpy.conversion.ExportFeatures(\n",
    "    in_features=r\"C:\\Users\\57320\\Dropbox\\Mi PC (LAPTOP-5K2HI422)\\Desktop\\Article Water Resources\\World_Countries_(Generalized)\\World_Countries_Generalized.shp\",\n",
    "    out_features=r\"C:\\Users\\57320\\Dropbox\\Mi PC (LAPTOP-5K2HI422)\\Desktop\\Article Water Resources\\WaterResources\\ColombiaBoundary.shp\",\n",
    "    where_clause=\"COUNTRY = 'Colombia'\",\n",
    "    use_field_alias_as_name=\"NOT_USE_ALIAS\",\n",
    "    field_mapping=r'COUNTRY \"COUNTRY\" true true false 50 Text 0 0,First,#,C:\\Users\\57320\\Dropbox\\Mi PC (LAPTOP-5K2HI422)\\Desktop\\Article Water Resources\\World_Countries_(Generalized)\\World_Countries_Generalized.shp,COUNTRY,0,49',\n",
    "    sort_field=None\n",
    ")"
   ]
  },
  {
   "cell_type": "code",
   "execution_count": 9,
   "metadata": {},
   "outputs": [
    {
     "data": {
      "application/vnd.jupyter.widget-view+json": {
       "model_id": "a25919635ef34f99b2b432660266d1ae",
       "version_major": 2,
       "version_minor": 0
      },
      "text/plain": [
       "MapView(layout=Layout(height='400px', width='100%'))"
      ]
     },
     "metadata": {},
     "output_type": "display_data"
    },
    {
     "data": {
      "text/html": [
       "<div class=\"map-static-img-preview-dc83701f-61e4-4970-bf36-d6e8e9b445d2\"><img src=\"\"></img></div>"
      ],
      "text/plain": [
       "<display.HTML object>"
      ]
     },
     "metadata": {},
     "output_type": "display_data"
    },
    {
     "data": {
      "text/html": [
       "<div class=\"map-html-embed-preview-dc83701f-61e4-4970-bf36-d6e8e9b445d2\"></div>"
      ],
      "text/plain": [
       "<display.HTML object>"
      ]
     },
     "metadata": {},
     "output_type": "display_data"
    }
   ],
   "source": [
    "# View the colombia boundary\n",
    "map1 = gis.map(\"Bogotá\", 4)\n",
    "map1.center = [5, -74]\n",
    "map1.add_layer(boundary_col)\n",
    "map1.basemap = 'hybrid'\n",
    "map1"
   ]
  },
  {
   "cell_type": "markdown",
   "metadata": {},
   "source": [
    "# Import the Colombia boundary using ArcGIS Online"
   ]
  },
  {
   "cell_type": "code",
   "execution_count": 12,
   "metadata": {},
   "outputs": [
    {
     "data": {
      "text/html": [
       "<div class=\"item_container\" style=\"height: auto; overflow: hidden; border: 1px solid #cfcfcf; border-radius: 2px; background: #f6fafa; line-height: 1.21429em; padding: 10px;\">\n",
       "                    <div class=\"item_left\" style=\"width: 210px; float: left;\">\n",
       "                       <a href='https://UDistritalFJC.maps.arcgis.com/home/item.html?id=ac80670eb213440ea5899bbf92a04998' target='_blank'>\n",
       "                        <img src='data:image/png;base64,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' width='200' height='133' class=\"itemThumbnail\">\n",
       "                       </a>\n",
       "                    </div>\n",
       "\n",
       "                    <div class=\"item_right\"     style=\"float: none; width: auto; overflow: hidden;\">\n",
       "                        <a href='https://UDistritalFJC.maps.arcgis.com/home/item.html?id=ac80670eb213440ea5899bbf92a04998' target='_blank'><b>World Countries</b>\n",
       "                        </a>\n",
       "                        <br/>World Countries represents the boundaries for the countries of the world.<img src='https://UDistritalFJC.maps.arcgis.com/home/js/jsapi/esri/css/images/item_type_icons/featureshosted16.png' style=\"vertical-align:middle;\" width=16 height=16>Feature Layer Collection by esri_dm\n",
       "                        <br/>Last Modified: diciembre 04, 2024\n",
       "                        <br/>0 comments, 6.585.832 views\n",
       "                    </div>\n",
       "                </div>\n",
       "                "
      ],
      "text/plain": [
       "<Item title:\"World Countries\" type:Feature Layer Collection owner:esri_dm>"
      ]
     },
     "execution_count": 12,
     "metadata": {},
     "output_type": "execute_result"
    }
   ],
   "source": [
    "World_countries = gis.content.search(\"title:World Countries\", item_type=\"Feature Layer\", outside_org=True)[0]\n",
    "World_countries"
   ]
  },
  {
   "cell_type": "code",
   "execution_count": 13,
   "metadata": {},
   "outputs": [
    {
     "data": {
      "text/html": [
       "<div>\n",
       "<style scoped>\n",
       "    .dataframe tbody tr th:only-of-type {\n",
       "        vertical-align: middle;\n",
       "    }\n",
       "\n",
       "    .dataframe tbody tr th {\n",
       "        vertical-align: top;\n",
       "    }\n",
       "\n",
       "    .dataframe thead th {\n",
       "        text-align: right;\n",
       "    }\n",
       "</style>\n",
       "<table border=\"1\" class=\"dataframe\">\n",
       "  <thead>\n",
       "    <tr style=\"text-align: right;\">\n",
       "      <th></th>\n",
       "      <th>FID</th>\n",
       "      <th>COUNTRY</th>\n",
       "      <th>ISO_CC</th>\n",
       "      <th>CONTINENT</th>\n",
       "      <th>LAND_TYPE</th>\n",
       "      <th>LAND_RANK</th>\n",
       "      <th>COUNTRYAFF</th>\n",
       "      <th>Shape__Area</th>\n",
       "      <th>Shape__Length</th>\n",
       "      <th>SHAPE</th>\n",
       "    </tr>\n",
       "  </thead>\n",
       "  <tbody>\n",
       "    <tr>\n",
       "      <th>0</th>\n",
       "      <td>1</td>\n",
       "      <td>Afghanistan</td>\n",
       "      <td>AFG</td>\n",
       "      <td>Asia</td>\n",
       "      <td>Primary land</td>\n",
       "      <td>5</td>\n",
       "      <td>Afghanistan</td>\n",
       "      <td>934790415800.394531</td>\n",
       "      <td>7151402.238038</td>\n",
       "      <td>{\"rings\": [[[7903664.31238816, 4647353.7240337...</td>\n",
       "    </tr>\n",
       "    <tr>\n",
       "      <th>1</th>\n",
       "      <td>2</td>\n",
       "      <td>Albania</td>\n",
       "      <td>ALB</td>\n",
       "      <td>Europe</td>\n",
       "      <td>Primary land</td>\n",
       "      <td>5</td>\n",
       "      <td>Albania</td>\n",
       "      <td>50740452537.506836</td>\n",
       "      <td>1661876.953052</td>\n",
       "      <td>{\"rings\": [[[2198549.63224664, 5255559.6253894...</td>\n",
       "    </tr>\n",
       "    <tr>\n",
       "      <th>2</th>\n",
       "      <td>3</td>\n",
       "      <td>Albania</td>\n",
       "      <td>ALB</td>\n",
       "      <td>Europe</td>\n",
       "      <td>Very small island</td>\n",
       "      <td>1</td>\n",
       "      <td>Albania</td>\n",
       "      <td>957139.551758</td>\n",
       "      <td>9913.23004</td>\n",
       "      <td>{\"rings\": [[[2225504.39373069, 4833346.5908909...</td>\n",
       "    </tr>\n",
       "    <tr>\n",
       "      <th>3</th>\n",
       "      <td>4</td>\n",
       "      <td>Albania</td>\n",
       "      <td>ALB</td>\n",
       "      <td>Europe</td>\n",
       "      <td>Small island</td>\n",
       "      <td>2</td>\n",
       "      <td>Albania</td>\n",
       "      <td>12487236.617188</td>\n",
       "      <td>22317.303968</td>\n",
       "      <td>{\"rings\": [[[2146282.76187501, 4939350.3288305...</td>\n",
       "    </tr>\n",
       "    <tr>\n",
       "      <th>4</th>\n",
       "      <td>5</td>\n",
       "      <td>Algeria</td>\n",
       "      <td>DZA</td>\n",
       "      <td>Africa</td>\n",
       "      <td>Small island</td>\n",
       "      <td>2</td>\n",
       "      <td>Algeria</td>\n",
       "      <td>912158.337708</td>\n",
       "      <td>5281.894285</td>\n",
       "      <td>{\"rings\": [[[-125686.175298773, 4262793.12704]...</td>\n",
       "    </tr>\n",
       "    <tr>\n",
       "      <th>...</th>\n",
       "      <td>...</td>\n",
       "      <td>...</td>\n",
       "      <td>...</td>\n",
       "      <td>...</td>\n",
       "      <td>...</td>\n",
       "      <td>...</td>\n",
       "      <td>...</td>\n",
       "      <td>...</td>\n",
       "      <td>...</td>\n",
       "      <td>...</td>\n",
       "    </tr>\n",
       "    <tr>\n",
       "      <th>646</th>\n",
       "      <td>647</td>\n",
       "      <td>Yemen</td>\n",
       "      <td>YEM</td>\n",
       "      <td>Asia</td>\n",
       "      <td>Very small island</td>\n",
       "      <td>1</td>\n",
       "      <td>Yemen</td>\n",
       "      <td>11264806.4375</td>\n",
       "      <td>128476.33536</td>\n",
       "      <td>{\"rings\": [[[5803828.60369869, 1395645.8988727...</td>\n",
       "    </tr>\n",
       "    <tr>\n",
       "      <th>647</th>\n",
       "      <td>648</td>\n",
       "      <td>Yemen</td>\n",
       "      <td>YEM</td>\n",
       "      <td>Asia</td>\n",
       "      <td>Small island</td>\n",
       "      <td>2</td>\n",
       "      <td>Yemen</td>\n",
       "      <td>722943493.397461</td>\n",
       "      <td>803570.607099</td>\n",
       "      <td>{\"rings\": [[[5931926.38051852, 1360057.7950083...</td>\n",
       "    </tr>\n",
       "    <tr>\n",
       "      <th>648</th>\n",
       "      <td>649</td>\n",
       "      <td>Yemen</td>\n",
       "      <td>YEM</td>\n",
       "      <td>Asia</td>\n",
       "      <td>Medium island</td>\n",
       "      <td>3</td>\n",
       "      <td>Yemen</td>\n",
       "      <td>3809938000.283691</td>\n",
       "      <td>353260.952457</td>\n",
       "      <td>{\"rings\": [[[5960626.66656088, 1426907.7722898...</td>\n",
       "    </tr>\n",
       "    <tr>\n",
       "      <th>649</th>\n",
       "      <td>650</td>\n",
       "      <td>Zambia</td>\n",
       "      <td>ZMB</td>\n",
       "      <td>Africa</td>\n",
       "      <td>Primary land</td>\n",
       "      <td>5</td>\n",
       "      <td>Zambia</td>\n",
       "      <td>800213841259.233643</td>\n",
       "      <td>6306988.97471</td>\n",
       "      <td>{\"rings\": [[[3461259.839501, -964526.127554421...</td>\n",
       "    </tr>\n",
       "    <tr>\n",
       "      <th>650</th>\n",
       "      <td>651</td>\n",
       "      <td>Zimbabwe</td>\n",
       "      <td>ZWE</td>\n",
       "      <td>Africa</td>\n",
       "      <td>Primary land</td>\n",
       "      <td>5</td>\n",
       "      <td>Zimbabwe</td>\n",
       "      <td>439742448558.855469</td>\n",
       "      <td>3397972.419965</td>\n",
       "      <td>{\"rings\": [[[3324427.28758284, -1759942.709564...</td>\n",
       "    </tr>\n",
       "  </tbody>\n",
       "</table>\n",
       "<p>651 rows × 10 columns</p>\n",
       "</div>"
      ],
      "text/plain": [
       "     FID  ...                                              SHAPE\n",
       "0      1  ...  {\"rings\": [[[7903664.31238816, 4647353.7240337...\n",
       "1      2  ...  {\"rings\": [[[2198549.63224664, 5255559.6253894...\n",
       "2      3  ...  {\"rings\": [[[2225504.39373069, 4833346.5908909...\n",
       "3      4  ...  {\"rings\": [[[2146282.76187501, 4939350.3288305...\n",
       "4      5  ...  {\"rings\": [[[-125686.175298773, 4262793.12704]...\n",
       "..   ...  ...                                                ...\n",
       "646  647  ...  {\"rings\": [[[5803828.60369869, 1395645.8988727...\n",
       "647  648  ...  {\"rings\": [[[5931926.38051852, 1360057.7950083...\n",
       "648  649  ...  {\"rings\": [[[5960626.66656088, 1426907.7722898...\n",
       "649  650  ...  {\"rings\": [[[3461259.839501, -964526.127554421...\n",
       "650  651  ...  {\"rings\": [[[3324427.28758284, -1759942.709564...\n",
       "\n",
       "[651 rows x 10 columns]"
      ]
     },
     "execution_count": 13,
     "metadata": {},
     "output_type": "execute_result"
    }
   ],
   "source": [
    "# Obtain the first feature layer from the item\n",
    "world = World_countries.layers[0]\n",
    "# Use the `from_layer` static method in the 'spatial' namespace on the Pandas' DataFrame\n",
    "colombia_bound = pd.DataFrame.spatial.from_layer(world)\n",
    "colombia_bound"
   ]
  },
  {
   "cell_type": "code",
   "execution_count": 14,
   "metadata": {},
   "outputs": [
    {
     "data": {
      "text/html": [
       "<div>\n",
       "<style scoped>\n",
       "    .dataframe tbody tr th:only-of-type {\n",
       "        vertical-align: middle;\n",
       "    }\n",
       "\n",
       "    .dataframe tbody tr th {\n",
       "        vertical-align: top;\n",
       "    }\n",
       "\n",
       "    .dataframe thead th {\n",
       "        text-align: right;\n",
       "    }\n",
       "</style>\n",
       "<table border=\"1\" class=\"dataframe\">\n",
       "  <thead>\n",
       "    <tr style=\"text-align: right;\">\n",
       "      <th></th>\n",
       "      <th>FID</th>\n",
       "      <th>COUNTRY</th>\n",
       "      <th>ISO_CC</th>\n",
       "      <th>CONTINENT</th>\n",
       "      <th>LAND_TYPE</th>\n",
       "      <th>LAND_RANK</th>\n",
       "      <th>COUNTRYAFF</th>\n",
       "      <th>Shape__Area</th>\n",
       "      <th>Shape__Length</th>\n",
       "      <th>SHAPE</th>\n",
       "    </tr>\n",
       "  </thead>\n",
       "  <tbody>\n",
       "    <tr>\n",
       "      <th>123</th>\n",
       "      <td>124</td>\n",
       "      <td>Colombia</td>\n",
       "      <td>COL</td>\n",
       "      <td>South America</td>\n",
       "      <td>Primary land</td>\n",
       "      <td>5</td>\n",
       "      <td>Colombia</td>\n",
       "      <td>1151528507344.773193</td>\n",
       "      <td>12676584.785491</td>\n",
       "      <td>{\"rings\": [[[-8731105.95122992, 280260.0783608...</td>\n",
       "    </tr>\n",
       "  </tbody>\n",
       "</table>\n",
       "</div>"
      ],
      "text/plain": [
       "     FID  ...                                              SHAPE\n",
       "123  124  ...  {\"rings\": [[[-8731105.95122992, 280260.0783608...\n",
       "\n",
       "[1 rows x 10 columns]"
      ]
     },
     "execution_count": 14,
     "metadata": {},
     "output_type": "execute_result"
    }
   ],
   "source": [
    "colombia = colombia_bound.query('(COUNTRY == \"Colombia\") and (LAND_TYPE == \"Primary land\")')\n",
    "colombia"
   ]
  },
  {
   "cell_type": "code",
   "execution_count": 15,
   "metadata": {},
   "outputs": [
    {
     "data": {
      "application/vnd.jupyter.widget-view+json": {
       "model_id": "11816602a5914720b53032c3c5d36e59",
       "version_major": 2,
       "version_minor": 0
      },
      "text/plain": [
       "MapView(layout=Layout(height='400px', width='100%'))"
      ]
     },
     "metadata": {},
     "output_type": "display_data"
    },
    {
     "data": {
      "text/html": [
       "<div class=\"map-static-img-preview-d5ab7399-5b08-40b4-bc65-e0a83971f769\"><img src=\"\"></img></div>"
      ],
      "text/plain": [
       "<display.HTML object>"
      ]
     },
     "metadata": {},
     "output_type": "display_data"
    },
    {
     "data": {
      "text/html": [
       "<div class=\"map-html-embed-preview-d5ab7399-5b08-40b4-bc65-e0a83971f769\"></div>"
      ],
      "text/plain": [
       "<display.HTML object>"
      ]
     },
     "metadata": {},
     "output_type": "display_data"
    }
   ],
   "source": [
    "# View the colombia boundary\n",
    "map2 = gis.map(\"Bogotá\", 4)\n",
    "map2.center = [5, -74]\n",
    "map2.add_layer(colombia)\n",
    "map2.basemap = 'hybrid'\n",
    "map2"
   ]
  },
  {
   "cell_type": "markdown",
   "metadata": {},
   "source": [
    "# Import the HydroLAKES in Colombia"
   ]
  },
  {
   "cell_type": "markdown",
   "metadata": {},
   "source": [
    "<div class=\"alert alert-info\">\n",
    "    <b>HydroLAKES:</b> \n",
    "\n",
    "HydroLAKES aims to provide the shoreline polygons of all global lakes with a surface area of at least 10 ha. HydroLAKES has been developed using a suite of auxiliary data sources of lake polygons and gridded lake surface areas. All lakes are co-registered to the global river network of the HydroSHEDS database via their lake pour points. The global coverage of HydroLAKES encompasses 1.4 million individual lakes or reservoirs representing a total surface area of 2.67 million km², a total shoreline length of 7.2 million km, and a total storage volume of 181,900 km.\n",
    "        \n",
    "For more information, please visit the following link:[HydroLAKES](https://www.hydrosheds.org/products/hydrolakes) \n",
    "\n",
    "</div>"
   ]
  },
  {
   "cell_type": "code",
   "execution_count": 16,
   "metadata": {},
   "outputs": [
    {
     "data": {
      "text/html": [
       "<div class='gpresult'><h2>Messages</h2><div id='messages' data-messages='[\"DEBUG: GPEventTiming START: GPUtilities::TestForDisconnectingOutputLayers for Intersect_analysis\",\"DEBUG: GPEventTiming START: GPUtilities::DisconnectDataLayer C:\\\\Users\\\\57320\\\\Dropbox\\\\Mi PC (LAPTOP-5K2HI422)\\\\Desktop\\\\Article Water Resources\\\\WaterResources\\\\LakesColombia.shp\",\"DEBUG: GPEventTiming END: GPUtilities::TestForDisconnectingOutputLayers for Intersect_analysis (elapsed time 0,029000)\",\"Start Time: jueves, 9 de enero de 2025 15:37:11\",\"DEBUG: GPEventTiming ProcessExecution PreExecution time 0,266000\",\"Executing: Intersect \\\"&#39;C:\\\\Users\\\\57320\\\\Dropbox\\\\Mi PC (LAPTOP-5K2HI422)\\\\Desktop\\\\Article Water Resources\\\\HydroLAKES_polys_v10_shp\\\\HydroLAKES_polys_v10_shp\\\\HydroLAKES_polys_v10.shp&#39; #;&#39;C:\\\\Users\\\\57320\\\\Dropbox\\\\Mi PC (LAPTOP-5K2HI422)\\\\Desktop\\\\Article Water Resources\\\\WaterResources\\\\ColombiaBoundary.shp&#39; #\\\" \\\"C:\\\\Users\\\\57320\\\\Dropbox\\\\Mi PC (LAPTOP-5K2HI422)\\\\Desktop\\\\Article Water Resources\\\\WaterResources\\\\LakesColombia.shp\\\" \\\"All attributes\\\" # \\\"Same as input\\\"\",\"DEBUG: GPEventTiming START: GPFunctionTool::Execute\",\"DEBUG: GPEventTiming GPFunctionTool::Execute after ValidateValues (elapsed time 0,002000)\",\"DEBUG: GPEventTiming GPFunctionTool::Execute before function execute (elapsed time 0,002000)\",\"Reading Features...\",\"Cracking Features...\",\"Assembling Features...\",\"DEBUG: GPEventTiming GPFunctionTool::Execute after function execute (elapsed time 4,232000)\",\"DEBUG: GPEventTiming END: GPFunctionTool::Execute (elapsed time 4,232000)\",\"DEBUG: GPEventTiming ProcessExecution Execution time 4,255000\",\"DEBUG: GPEventTiming START: GPUtilities::TestForReconnectingOutputLayers for Intersect_analysis\",\"DEBUG: GPEventTiming START: GPUtilities::CleanUpDataLayers index 0\",\"DEBUG: GPEventTiming END: GPUtilities::CleanUpDataLayers index 0 (elapsed time 0,000000)\",\"DEBUG: GPEventTiming START: GPUtilities::CleanUpDataLayers index -10\",\"DEBUG: GPEventTiming END: GPUtilities::CleanUpDataLayers index -10 (elapsed time 0,002000)\",\"DEBUG: GPEventTiming END: GPUtilities::TestForReconnectingOutputLayers for Intersect_analysis (elapsed time 0,026000)\",\"DEBUG: GPEventTiming LayerManagementClass::ProcessOutputsInternal START\",\"DEBUG: GPEventTiming LayerManagementClass::ProcessGPValueModelBuilder START: C:\\\\Users\\\\57320\\\\Dropbox\\\\Mi PC (LAPTOP-5K2HI422)\\\\Desktop\\\\Article Water Resources\\\\WaterResources\\\\LakesColombia.shp\",\"DEBUG: GPEventTiming LayerManagementClass::ProcessGPValueModelBuilder END: C:\\\\Users\\\\57320\\\\Dropbox\\\\Mi PC (LAPTOP-5K2HI422)\\\\Desktop\\\\Article Water Resources\\\\WaterResources\\\\LakesColombia.shp (elapsed time 1,564000\",\"DEBUG: GPEventTiming LayerManagementClass::ProcessOutputsInternal after ProcessGPValueModelBuilder: (elapsed time 1,564000)\",\"DEBUG: GPEventTiming LayerManagementClass::ProcessOutputsInternal END: (elapsed time 1,574000)\",\"DEBUG: GPEventTiming ProcessExecution ProcessOutputs time (part of PostExecution time) 1,587000\",\"Succeeded at jueves, 9 de enero de 2025 15:37:18 (Elapsed Time: 6,26 seconds)\",\"DEBUG: GPEventTiming ProcessExecution PostExecution time 1,743000\",\"DEBUG: GPEventTiming ProcessExecution TotalExecution time 6,264000\"]' data-show='true'><div id = 'default' /></div></div>"
      ],
      "text/plain": [
       "<Result 'C:\\\\Users\\\\57320\\\\Dropbox\\\\Mi PC (LAPTOP-5K2HI422)\\\\Desktop\\\\Article Water Resources\\\\WaterResources\\\\LakesColombia.shp'>"
      ]
     },
     "execution_count": 16,
     "metadata": {},
     "output_type": "execute_result"
    }
   ],
   "source": [
    "arcpy.analysis.Intersect(\n",
    "    in_features=r\"'C:\\Users\\57320\\Dropbox\\Mi PC (LAPTOP-5K2HI422)\\Desktop\\Article Water Resources\\HydroLAKES_polys_v10_shp\\HydroLAKES_polys_v10_shp\\HydroLAKES_polys_v10.shp' #;'C:\\Users\\57320\\Dropbox\\Mi PC (LAPTOP-5K2HI422)\\Desktop\\Article Water Resources\\WaterResources\\ColombiaBoundary.shp' #\",\n",
    "    out_feature_class=r\"C:\\Users\\57320\\Dropbox\\Mi PC (LAPTOP-5K2HI422)\\Desktop\\Article Water Resources\\WaterResources\\LakesColombia.shp\",\n",
    "    join_attributes=\"ALL\",\n",
    "    cluster_tolerance=None,\n",
    "    output_type=\"INPUT\"\n",
    ")"
   ]
  },
  {
   "cell_type": "code",
   "execution_count": 17,
   "metadata": {},
   "outputs": [
    {
     "data": {
      "text/plain": [
       "'C:\\\\Users\\\\57320\\\\Dropbox\\\\Mi PC (LAPTOP-5K2HI422)\\\\Desktop\\\\Article Water Resources\\\\WaterResources'"
      ]
     },
     "execution_count": 17,
     "metadata": {},
     "output_type": "execute_result"
    }
   ],
   "source": [
    "path_lakes = os.chdir(r'C:/Users/57320/Dropbox/Mi PC (LAPTOP-5K2HI422)/Desktop/Article Water Resources/WaterResources')\n",
    "path_lakes = os.getcwd()\n",
    "path_lakes"
   ]
  },
  {
   "cell_type": "code",
   "execution_count": 18,
   "metadata": {},
   "outputs": [
    {
     "data": {
      "text/html": [
       "<div>\n",
       "<style scoped>\n",
       "    .dataframe tbody tr th:only-of-type {\n",
       "        vertical-align: middle;\n",
       "    }\n",
       "\n",
       "    .dataframe tbody tr th {\n",
       "        vertical-align: top;\n",
       "    }\n",
       "\n",
       "    .dataframe thead th {\n",
       "        text-align: right;\n",
       "    }\n",
       "</style>\n",
       "<table border=\"1\" class=\"dataframe\">\n",
       "  <thead>\n",
       "    <tr style=\"text-align: right;\">\n",
       "      <th></th>\n",
       "      <th>FID</th>\n",
       "      <th>Lake_name</th>\n",
       "      <th>Country</th>\n",
       "      <th>Lake_area</th>\n",
       "      <th>Vol_total</th>\n",
       "      <th>Elevation</th>\n",
       "      <th>Pour_long</th>\n",
       "      <th>Pour_lat</th>\n",
       "      <th>SHAPE</th>\n",
       "    </tr>\n",
       "  </thead>\n",
       "  <tbody>\n",
       "    <tr>\n",
       "      <th>0</th>\n",
       "      <td>0</td>\n",
       "      <td></td>\n",
       "      <td>Colombia</td>\n",
       "      <td>102.0</td>\n",
       "      <td>126.2</td>\n",
       "      <td>0</td>\n",
       "      <td>-74.496875</td>\n",
       "      <td>10.771398</td>\n",
       "      <td>{\"rings\": [[[-74.57804953025456, 10.8877827938...</td>\n",
       "    </tr>\n",
       "    <tr>\n",
       "      <th>1</th>\n",
       "      <td>1</td>\n",
       "      <td>Guajaro</td>\n",
       "      <td>Colombia</td>\n",
       "      <td>112.88</td>\n",
       "      <td>359.9</td>\n",
       "      <td>4</td>\n",
       "      <td>-75.107292</td>\n",
       "      <td>10.411269</td>\n",
       "      <td>{\"rings\": [[[-75.08834167480461, 10.6202694363...</td>\n",
       "    </tr>\n",
       "    <tr>\n",
       "      <th>2</th>\n",
       "      <td>2</td>\n",
       "      <td>Zapatosa</td>\n",
       "      <td>Colombia</td>\n",
       "      <td>286.55</td>\n",
       "      <td>1097.25</td>\n",
       "      <td>22</td>\n",
       "      <td>-73.901387</td>\n",
       "      <td>9.052081</td>\n",
       "      <td>{\"rings\": [[[-73.76055284288151, 9.27889166937...</td>\n",
       "    </tr>\n",
       "    <tr>\n",
       "      <th>3</th>\n",
       "      <td>3</td>\n",
       "      <td></td>\n",
       "      <td>Colombia</td>\n",
       "      <td>130.04</td>\n",
       "      <td>158.25</td>\n",
       "      <td>10</td>\n",
       "      <td>-74.666475</td>\n",
       "      <td>9.050205</td>\n",
       "      <td>{\"rings\": [[[-74.7002749972869, 9.047602064345...</td>\n",
       "    </tr>\n",
       "    <tr>\n",
       "      <th>4</th>\n",
       "      <td>4</td>\n",
       "      <td></td>\n",
       "      <td>Colombia</td>\n",
       "      <td>199.42</td>\n",
       "      <td>251.39</td>\n",
       "      <td>11</td>\n",
       "      <td>-74.769634</td>\n",
       "      <td>9.019717</td>\n",
       "      <td>{\"rings\": [[[-74.78750471326993, 9.03722215440...</td>\n",
       "    </tr>\n",
       "    <tr>\n",
       "      <th>...</th>\n",
       "      <td>...</td>\n",
       "      <td>...</td>\n",
       "      <td>...</td>\n",
       "      <td>...</td>\n",
       "      <td>...</td>\n",
       "      <td>...</td>\n",
       "      <td>...</td>\n",
       "      <td>...</td>\n",
       "      <td>...</td>\n",
       "    </tr>\n",
       "    <tr>\n",
       "      <th>3272</th>\n",
       "      <td>3272</td>\n",
       "      <td></td>\n",
       "      <td>Colombia</td>\n",
       "      <td>0.22</td>\n",
       "      <td>0.8</td>\n",
       "      <td>76</td>\n",
       "      <td>-70.513542</td>\n",
       "      <td>-3.826846</td>\n",
       "      <td>{\"rings\": [[[-70.51644259982555, -3.8302240668...</td>\n",
       "    </tr>\n",
       "    <tr>\n",
       "      <th>3273</th>\n",
       "      <td>3273</td>\n",
       "      <td></td>\n",
       "      <td>Colombia</td>\n",
       "      <td>0.45</td>\n",
       "      <td>1.14</td>\n",
       "      <td>76</td>\n",
       "      <td>-70.513947</td>\n",
       "      <td>-3.843689</td>\n",
       "      <td>{\"rings\": [[[-70.51184217664849, -3.8384054904...</td>\n",
       "    </tr>\n",
       "    <tr>\n",
       "      <th>3274</th>\n",
       "      <td>3274</td>\n",
       "      <td></td>\n",
       "      <td>Colombia</td>\n",
       "      <td>0.3</td>\n",
       "      <td>0.92</td>\n",
       "      <td>65</td>\n",
       "      <td>-70.077548</td>\n",
       "      <td>-4.05378</td>\n",
       "      <td>{\"rings\": [[[-70.0672553168393, -4.05975043402...</td>\n",
       "    </tr>\n",
       "    <tr>\n",
       "      <th>3275</th>\n",
       "      <td>3275</td>\n",
       "      <td></td>\n",
       "      <td>Colombia</td>\n",
       "      <td>0.18</td>\n",
       "      <td>0.49</td>\n",
       "      <td>65</td>\n",
       "      <td>-70.078825</td>\n",
       "      <td>-4.078207</td>\n",
       "      <td>{\"rings\": [[[-70.07997721354073, -4.0803423394...</td>\n",
       "    </tr>\n",
       "    <tr>\n",
       "      <th>3276</th>\n",
       "      <td>3276</td>\n",
       "      <td></td>\n",
       "      <td>Colombia</td>\n",
       "      <td>0.77</td>\n",
       "      <td>2.28</td>\n",
       "      <td>65</td>\n",
       "      <td>-69.965932</td>\n",
       "      <td>-4.182485</td>\n",
       "      <td>{\"rings\": [[[-69.95642035590237, -4.1863134765...</td>\n",
       "    </tr>\n",
       "  </tbody>\n",
       "</table>\n",
       "<p>3277 rows × 9 columns</p>\n",
       "</div>"
      ],
      "text/plain": [
       "       FID  ...                                              SHAPE\n",
       "0        0  ...  {\"rings\": [[[-74.57804953025456, 10.8877827938...\n",
       "1        1  ...  {\"rings\": [[[-75.08834167480461, 10.6202694363...\n",
       "2        2  ...  {\"rings\": [[[-73.76055284288151, 9.27889166937...\n",
       "3        3  ...  {\"rings\": [[[-74.7002749972869, 9.047602064345...\n",
       "4        4  ...  {\"rings\": [[[-74.78750471326993, 9.03722215440...\n",
       "...    ...  ...                                                ...\n",
       "3272  3272  ...  {\"rings\": [[[-70.51644259982555, -3.8302240668...\n",
       "3273  3273  ...  {\"rings\": [[[-70.51184217664849, -3.8384054904...\n",
       "3274  3274  ...  {\"rings\": [[[-70.0672553168393, -4.05975043402...\n",
       "3275  3275  ...  {\"rings\": [[[-70.07997721354073, -4.0803423394...\n",
       "3276  3276  ...  {\"rings\": [[[-69.95642035590237, -4.1863134765...\n",
       "\n",
       "[3277 rows x 9 columns]"
      ]
     },
     "execution_count": 18,
     "metadata": {},
     "output_type": "execute_result"
    }
   ],
   "source": [
    "lakes_col = r\"LakesColombia.shp\"\n",
    "lakes_colombia = pd.DataFrame.spatial.from_featureclass(os.path.join(path_lakes, lakes_col), sr=SpatialReference(4326).as_arcpy)\n",
    "lakes_colombia.drop(labels=[\"FID_HydroL\",\"Hylak_id\",\"Continent\",\"Poly_src\",\"Lake_type\",\"Grand_id\",\"Shore_len\",\"Shore_dev\",\"Vol_res\",\"Vol_src\",\"Depth_avg\",\"Dis_avg\",\"Res_time\",\"Slope_100\",\"Wshd_area\",\"FID_Colomb\",\"COUNTRY_1\"], axis=1, inplace=True)\n",
    "lakes_colombia"
   ]
  },
  {
   "cell_type": "code",
   "execution_count": 22,
   "metadata": {},
   "outputs": [
    {
     "data": {
      "application/vnd.jupyter.widget-view+json": {
       "model_id": "7905446ad9874734ac037e43618e48ae",
       "version_major": 2,
       "version_minor": 0
      },
      "text/plain": [
       "MapView(layout=Layout(height='400px', width='100%'))"
      ]
     },
     "metadata": {},
     "output_type": "display_data"
    },
    {
     "data": {
      "text/html": [
       "<div class=\"map-static-img-preview-9863f031-e3dc-4802-ad11-e5443e8038b8\"><img src=\"\"></img></div>"
      ],
      "text/plain": [
       "<display.HTML object>"
      ]
     },
     "metadata": {},
     "output_type": "display_data"
    },
    {
     "data": {
      "text/html": [
       "<div class=\"map-html-embed-preview-9863f031-e3dc-4802-ad11-e5443e8038b8\"></div>"
      ],
      "text/plain": [
       "<display.HTML object>"
      ]
     },
     "metadata": {},
     "output_type": "display_data"
    }
   ],
   "source": [
    "map3 = gis.map(\"Bogotá\", 5)\n",
    "map3.center = [5, -74]\n",
    "map3.add_layer(boundary_col)\n",
    "map3.add_layer(lakes_colombia)\n",
    "map3.basemap = 'hybrid'\n",
    "map3"
   ]
  },
  {
   "cell_type": "code",
   "execution_count": 23,
   "metadata": {},
   "outputs": [
    {
     "data": {
      "text/plain": [
       "True"
      ]
     },
     "execution_count": 23,
     "metadata": {},
     "output_type": "execute_result"
    }
   ],
   "source": [
    "lakes_colombia.spatial.plot(map_widget = map3,\n",
    "                renderer_type='h', col='FID')"
   ]
  },
  {
   "cell_type": "markdown",
   "metadata": {},
   "source": [
    "# Import the HydroRIVERS in Colombia"
   ]
  },
  {
   "cell_type": "markdown",
   "metadata": {},
   "source": [
    "<div class=\"alert alert-info\">\n",
    "    <b>HydroRIVERS:</b> \n",
    "\n",
    "HydroRIVERS represents a vectorized line network of all global rivers that have a catchment area of at least 10 km² or an average river flow of at least 0.1 m³/sec, or both. HydroRIVERS has been extracted from the gridded HydroSHEDS core layers at 15 arc-second resolution. The global coverage of HydroRIVERS encompasses 8.5 million individual river reaches with an average length of 4.2 km, representing a total of 35.9 million km of rivers globally.\n",
    "        \n",
    "For more information, please visit the following link:[HydroRIVERS](https://www.hydrosheds.org/products/hydrorivers) \n",
    "\n",
    "</div>"
   ]
  },
  {
   "cell_type": "code",
   "execution_count": 24,
   "metadata": {},
   "outputs": [
    {
     "data": {
      "text/html": [
       "<div class='gpresult'><h2>Messages</h2><div id='messages' data-messages='[\"DEBUG: GPEventTiming START: GPUtilities::TestForDisconnectingOutputLayers for Intersect_analysis\",\"DEBUG: GPEventTiming START: GPUtilities::DisconnectDataLayer C:\\\\Users\\\\57320\\\\Dropbox\\\\Mi PC (LAPTOP-5K2HI422)\\\\Desktop\\\\Article Water Resources\\\\WaterResources\\\\RiversColombia.shp\",\"DEBUG: GPEventTiming END: GPUtilities::TestForDisconnectingOutputLayers for Intersect_analysis (elapsed time 0,059000)\",\"Start Time: jueves, 9 de enero de 2025 16:10:46\",\"DEBUG: GPEventTiming ProcessExecution PreExecution time 0,469000\",\"Executing: Intersect \\\"&#39;C:\\\\Users\\\\57320\\\\Dropbox\\\\Mi PC (LAPTOP-5K2HI422)\\\\Desktop\\\\Article Water Resources\\\\HydroRIVERS_v10_sa_shp\\\\HydroRIVERS_v10_sa_shp\\\\HydroRIVERS_v10_sa.shp&#39; #;&#39;C:\\\\Users\\\\57320\\\\Dropbox\\\\Mi PC (LAPTOP-5K2HI422)\\\\Desktop\\\\Article Water Resources\\\\WaterResources\\\\ColombiaBoundary.shp&#39; #\\\" \\\"C:\\\\Users\\\\57320\\\\Dropbox\\\\Mi PC (LAPTOP-5K2HI422)\\\\Desktop\\\\Article Water Resources\\\\WaterResources\\\\RiversColombia.shp\\\" \\\"All attributes\\\" # \\\"Same as input\\\"\",\"DEBUG: GPEventTiming START: GPFunctionTool::Execute\",\"DEBUG: GPEventTiming GPFunctionTool::Execute after ValidateValues (elapsed time 0,007000)\",\"DEBUG: GPEventTiming GPFunctionTool::Execute before function execute (elapsed time 0,008000)\",\"Reading Features...\",\"Cracking Features...\",\"Assembling Features...\",\"DEBUG: GPEventTiming GPFunctionTool::Execute after function execute (elapsed time 101,401000)\",\"DEBUG: GPEventTiming END: GPFunctionTool::Execute (elapsed time 101,402000)\",\"DEBUG: GPEventTiming ProcessExecution Execution time 101,435000\",\"DEBUG: GPEventTiming START: GPUtilities::TestForReconnectingOutputLayers for Intersect_analysis\",\"DEBUG: GPEventTiming START: GPUtilities::CleanUpDataLayers index 0\",\"DEBUG: GPEventTiming END: GPUtilities::CleanUpDataLayers index 0 (elapsed time 0,000000)\",\"DEBUG: GPEventTiming START: GPUtilities::CleanUpDataLayers index -10\",\"DEBUG: GPEventTiming END: GPUtilities::CleanUpDataLayers index -10 (elapsed time 0,003000)\",\"DEBUG: GPEventTiming END: GPUtilities::TestForReconnectingOutputLayers for Intersect_analysis (elapsed time 0,031000)\",\"DEBUG: GPEventTiming LayerManagementClass::ProcessOutputsInternal START\",\"DEBUG: GPEventTiming LayerManagementClass::ProcessGPValueModelBuilder START: C:\\\\Users\\\\57320\\\\Dropbox\\\\Mi PC (LAPTOP-5K2HI422)\\\\Desktop\\\\Article Water Resources\\\\WaterResources\\\\RiversColombia.shp\",\"DEBUG: GPEventTiming LayerManagementClass::ProcessGPValueModelBuilder END: C:\\\\Users\\\\57320\\\\Dropbox\\\\Mi PC (LAPTOP-5K2HI422)\\\\Desktop\\\\Article Water Resources\\\\WaterResources\\\\RiversColombia.shp (elapsed time 3,981000\",\"DEBUG: GPEventTiming LayerManagementClass::ProcessOutputsInternal after ProcessGPValueModelBuilder: (elapsed time 3,981000)\",\"DEBUG: GPEventTiming LayerManagementClass::ProcessOutputsInternal END: (elapsed time 3,987000)\",\"DEBUG: GPEventTiming ProcessExecution ProcessOutputs time (part of PostExecution time) 4,025000\",\"Succeeded at jueves, 9 de enero de 2025 16:13:04 (Elapsed Time: 2 minutes 17 seconds)\",\"DEBUG: GPEventTiming ProcessExecution PostExecution time 35,841000\",\"DEBUG: GPEventTiming ProcessExecution TotalExecution time 137,745000\"]' data-show='true'><div id = 'default' /></div></div>"
      ],
      "text/plain": [
       "<Result 'C:\\\\Users\\\\57320\\\\Dropbox\\\\Mi PC (LAPTOP-5K2HI422)\\\\Desktop\\\\Article Water Resources\\\\WaterResources\\\\RiversColombia.shp'>"
      ]
     },
     "execution_count": 24,
     "metadata": {},
     "output_type": "execute_result"
    }
   ],
   "source": [
    "arcpy.analysis.Intersect(\n",
    "    in_features=r\"'C:\\Users\\57320\\Dropbox\\Mi PC (LAPTOP-5K2HI422)\\Desktop\\Article Water Resources\\HydroRIVERS_v10_sa_shp\\HydroRIVERS_v10_sa_shp\\HydroRIVERS_v10_sa.shp' #;'C:\\Users\\57320\\Dropbox\\Mi PC (LAPTOP-5K2HI422)\\Desktop\\Article Water Resources\\WaterResources\\ColombiaBoundary.shp' #\",\n",
    "    out_feature_class=r\"C:\\Users\\57320\\Dropbox\\Mi PC (LAPTOP-5K2HI422)\\Desktop\\Article Water Resources\\WaterResources\\RiversColombia.shp\",\n",
    "    join_attributes=\"ALL\",\n",
    "    cluster_tolerance=None,\n",
    "    output_type=\"INPUT\"\n",
    ")"
   ]
  },
  {
   "cell_type": "code",
   "execution_count": 25,
   "metadata": {},
   "outputs": [
    {
     "data": {
      "text/plain": [
       "'C:\\\\Users\\\\57320\\\\Dropbox\\\\Mi PC (LAPTOP-5K2HI422)\\\\Desktop\\\\Article Water Resources\\\\WaterResources'"
      ]
     },
     "execution_count": 25,
     "metadata": {},
     "output_type": "execute_result"
    }
   ],
   "source": [
    "path_rivers = os.chdir(r'C:/Users/57320/Dropbox/Mi PC (LAPTOP-5K2HI422)/Desktop/Article Water Resources/WaterResources')\n",
    "path_rivers = os.getcwd()\n",
    "path_rivers"
   ]
  },
  {
   "cell_type": "code",
   "execution_count": 26,
   "metadata": {},
   "outputs": [
    {
     "data": {
      "text/html": [
       "<div>\n",
       "<style scoped>\n",
       "    .dataframe tbody tr th:only-of-type {\n",
       "        vertical-align: middle;\n",
       "    }\n",
       "\n",
       "    .dataframe tbody tr th {\n",
       "        vertical-align: top;\n",
       "    }\n",
       "\n",
       "    .dataframe thead th {\n",
       "        text-align: right;\n",
       "    }\n",
       "</style>\n",
       "<table border=\"1\" class=\"dataframe\">\n",
       "  <thead>\n",
       "    <tr style=\"text-align: right;\">\n",
       "      <th></th>\n",
       "      <th>FID</th>\n",
       "      <th>FID_HydroR</th>\n",
       "      <th>HYRIV_ID</th>\n",
       "      <th>NEXT_DOWN</th>\n",
       "      <th>MAIN_RIV</th>\n",
       "      <th>LENGTH_KM</th>\n",
       "      <th>DIST_DN_KM</th>\n",
       "      <th>DIST_UP_KM</th>\n",
       "      <th>CATCH_SKM</th>\n",
       "      <th>UPLAND_SKM</th>\n",
       "      <th>ENDORHEIC</th>\n",
       "      <th>DIS_AV_CMS</th>\n",
       "      <th>ORD_STRA</th>\n",
       "      <th>ORD_CLAS</th>\n",
       "      <th>ORD_FLOW</th>\n",
       "      <th>HYBAS_L12</th>\n",
       "      <th>FID_Colomb</th>\n",
       "      <th>COUNTRY</th>\n",
       "      <th>SHAPE</th>\n",
       "    </tr>\n",
       "  </thead>\n",
       "  <tbody>\n",
       "    <tr>\n",
       "      <th>0</th>\n",
       "      <td>0</td>\n",
       "      <td>185</td>\n",
       "      <td>60000186</td>\n",
       "      <td>0</td>\n",
       "      <td>60000186</td>\n",
       "      <td>2.5</td>\n",
       "      <td>0.0</td>\n",
       "      <td>36.900002</td>\n",
       "      <td>6.08</td>\n",
       "      <td>465.2</td>\n",
       "      <td>0</td>\n",
       "      <td>1.373</td>\n",
       "      <td>4</td>\n",
       "      <td>1</td>\n",
       "      <td>6</td>\n",
       "      <td>6120001360.0</td>\n",
       "      <td>0</td>\n",
       "      <td>Colombia</td>\n",
       "      <td>{\"paths\": [[[-71.62708333333359, 12.4187499999...</td>\n",
       "    </tr>\n",
       "    <tr>\n",
       "      <th>1</th>\n",
       "      <td>1</td>\n",
       "      <td>188</td>\n",
       "      <td>60000189</td>\n",
       "      <td>0</td>\n",
       "      <td>60000189</td>\n",
       "      <td>3.99</td>\n",
       "      <td>0.0</td>\n",
       "      <td>9.9</td>\n",
       "      <td>19.92</td>\n",
       "      <td>19.5</td>\n",
       "      <td>0</td>\n",
       "      <td>0.081</td>\n",
       "      <td>1</td>\n",
       "      <td>1</td>\n",
       "      <td>8</td>\n",
       "      <td>6120001370.0</td>\n",
       "      <td>0</td>\n",
       "      <td>Colombia</td>\n",
       "      <td>{\"paths\": [[[-71.48750000000024, 12.4104166666...</td>\n",
       "    </tr>\n",
       "    <tr>\n",
       "      <th>2</th>\n",
       "      <td>2</td>\n",
       "      <td>190</td>\n",
       "      <td>60000191</td>\n",
       "      <td>60000186</td>\n",
       "      <td>60000186</td>\n",
       "      <td>5.05</td>\n",
       "      <td>2.6</td>\n",
       "      <td>20.9</td>\n",
       "      <td>14.47</td>\n",
       "      <td>112.6</td>\n",
       "      <td>0</td>\n",
       "      <td>0.389</td>\n",
       "      <td>3</td>\n",
       "      <td>2</td>\n",
       "      <td>7</td>\n",
       "      <td>6120054340.0</td>\n",
       "      <td>0</td>\n",
       "      <td>Colombia</td>\n",
       "      <td>{\"paths\": [[[-71.63921183985704, 12.4145833333...</td>\n",
       "    </tr>\n",
       "    <tr>\n",
       "      <th>3</th>\n",
       "      <td>3</td>\n",
       "      <td>191</td>\n",
       "      <td>60000192</td>\n",
       "      <td>60000186</td>\n",
       "      <td>60000186</td>\n",
       "      <td>2.32</td>\n",
       "      <td>2.6</td>\n",
       "      <td>34.599998</td>\n",
       "      <td>11.53</td>\n",
       "      <td>346.9</td>\n",
       "      <td>0</td>\n",
       "      <td>1.043</td>\n",
       "      <td>3</td>\n",
       "      <td>1</td>\n",
       "      <td>6</td>\n",
       "      <td>6120054350.0</td>\n",
       "      <td>0</td>\n",
       "      <td>Colombia</td>\n",
       "      <td>{\"paths\": [[[-71.62708333333359, 12.3979166666...</td>\n",
       "    </tr>\n",
       "    <tr>\n",
       "      <th>4</th>\n",
       "      <td>4</td>\n",
       "      <td>195</td>\n",
       "      <td>60000196</td>\n",
       "      <td>0</td>\n",
       "      <td>60000196</td>\n",
       "      <td>14.68</td>\n",
       "      <td>0.0</td>\n",
       "      <td>20.5</td>\n",
       "      <td>69.82</td>\n",
       "      <td>69.4</td>\n",
       "      <td>0</td>\n",
       "      <td>0.247</td>\n",
       "      <td>1</td>\n",
       "      <td>1</td>\n",
       "      <td>7</td>\n",
       "      <td>6120001370.0</td>\n",
       "      <td>0</td>\n",
       "      <td>Colombia</td>\n",
       "      <td>{\"paths\": [[[-71.48333333333369, 12.3624999999...</td>\n",
       "    </tr>\n",
       "    <tr>\n",
       "      <th>...</th>\n",
       "      <td>...</td>\n",
       "      <td>...</td>\n",
       "      <td>...</td>\n",
       "      <td>...</td>\n",
       "      <td>...</td>\n",
       "      <td>...</td>\n",
       "      <td>...</td>\n",
       "      <td>...</td>\n",
       "      <td>...</td>\n",
       "      <td>...</td>\n",
       "      <td>...</td>\n",
       "      <td>...</td>\n",
       "      <td>...</td>\n",
       "      <td>...</td>\n",
       "      <td>...</td>\n",
       "      <td>...</td>\n",
       "      <td>...</td>\n",
       "      <td>...</td>\n",
       "      <td>...</td>\n",
       "    </tr>\n",
       "    <tr>\n",
       "      <th>196149</th>\n",
       "      <td>196149</td>\n",
       "      <td>678610</td>\n",
       "      <td>60678611</td>\n",
       "      <td>60678052</td>\n",
       "      <td>60443230</td>\n",
       "      <td>9.73</td>\n",
       "      <td>2903.300049</td>\n",
       "      <td>10.3</td>\n",
       "      <td>20.12</td>\n",
       "      <td>20.1</td>\n",
       "      <td>0</td>\n",
       "      <td>1.363</td>\n",
       "      <td>1</td>\n",
       "      <td>3</td>\n",
       "      <td>6</td>\n",
       "      <td>6120309330.0</td>\n",
       "      <td>0</td>\n",
       "      <td>Colombia</td>\n",
       "      <td>{\"paths\": [[[-69.94089887091212, -4.2007677957...</td>\n",
       "    </tr>\n",
       "    <tr>\n",
       "      <th>196150</th>\n",
       "      <td>196150</td>\n",
       "      <td>679126</td>\n",
       "      <td>60679127</td>\n",
       "      <td>60676961</td>\n",
       "      <td>60443230</td>\n",
       "      <td>15.83</td>\n",
       "      <td>2905.0</td>\n",
       "      <td>29.0</td>\n",
       "      <td>37.47</td>\n",
       "      <td>73.6</td>\n",
       "      <td>0</td>\n",
       "      <td>4.998</td>\n",
       "      <td>2</td>\n",
       "      <td>2</td>\n",
       "      <td>6</td>\n",
       "      <td>6120309200.0</td>\n",
       "      <td>0</td>\n",
       "      <td>Colombia</td>\n",
       "      <td>{\"paths\": [[[-70.01334132603651, -4.1591746593...</td>\n",
       "    </tr>\n",
       "    <tr>\n",
       "      <th>196151</th>\n",
       "      <td>196151</td>\n",
       "      <td>679926</td>\n",
       "      <td>60679927</td>\n",
       "      <td>60680988</td>\n",
       "      <td>60443230</td>\n",
       "      <td>5.32</td>\n",
       "      <td>2894.399902</td>\n",
       "      <td>3098.100098</td>\n",
       "      <td>9.85</td>\n",
       "      <td>881319.0</td>\n",
       "      <td>0</td>\n",
       "      <td>40633.148</td>\n",
       "      <td>9</td>\n",
       "      <td>1</td>\n",
       "      <td>2</td>\n",
       "      <td>6120313630.0</td>\n",
       "      <td>0</td>\n",
       "      <td>Colombia</td>\n",
       "      <td>{\"paths\": [[[-69.97708333333361, -4.1854166666...</td>\n",
       "    </tr>\n",
       "    <tr>\n",
       "      <th>196152</th>\n",
       "      <td>196152</td>\n",
       "      <td>679927</td>\n",
       "      <td>60679928</td>\n",
       "      <td>60680988</td>\n",
       "      <td>60443230</td>\n",
       "      <td>4.74</td>\n",
       "      <td>2894.399902</td>\n",
       "      <td>11.0</td>\n",
       "      <td>7.28</td>\n",
       "      <td>29.1</td>\n",
       "      <td>0</td>\n",
       "      <td>1.972</td>\n",
       "      <td>2</td>\n",
       "      <td>2</td>\n",
       "      <td>6</td>\n",
       "      <td>6120313630.0</td>\n",
       "      <td>0</td>\n",
       "      <td>Colombia</td>\n",
       "      <td>{\"paths\": [[[-69.94918764066375, -4.2229166666...</td>\n",
       "    </tr>\n",
       "    <tr>\n",
       "      <th>196153</th>\n",
       "      <td>196153</td>\n",
       "      <td>680987</td>\n",
       "      <td>60680988</td>\n",
       "      <td>60681810</td>\n",
       "      <td>60443230</td>\n",
       "      <td>2.04</td>\n",
       "      <td>2892.399902</td>\n",
       "      <td>3100.199951</td>\n",
       "      <td>4.5</td>\n",
       "      <td>881352.6</td>\n",
       "      <td>0</td>\n",
       "      <td>40629.543</td>\n",
       "      <td>9</td>\n",
       "      <td>1</td>\n",
       "      <td>2</td>\n",
       "      <td>6120313630.0</td>\n",
       "      <td>0</td>\n",
       "      <td>Colombia</td>\n",
       "      <td>{\"paths\": [[[-69.95208333333366, -4.2229166666...</td>\n",
       "    </tr>\n",
       "  </tbody>\n",
       "</table>\n",
       "<p>196154 rows × 19 columns</p>\n",
       "</div>"
      ],
      "text/plain": [
       "           FID  ...                                              SHAPE\n",
       "0            0  ...  {\"paths\": [[[-71.62708333333359, 12.4187499999...\n",
       "1            1  ...  {\"paths\": [[[-71.48750000000024, 12.4104166666...\n",
       "2            2  ...  {\"paths\": [[[-71.63921183985704, 12.4145833333...\n",
       "3            3  ...  {\"paths\": [[[-71.62708333333359, 12.3979166666...\n",
       "4            4  ...  {\"paths\": [[[-71.48333333333369, 12.3624999999...\n",
       "...        ...  ...                                                ...\n",
       "196149  196149  ...  {\"paths\": [[[-69.94089887091212, -4.2007677957...\n",
       "196150  196150  ...  {\"paths\": [[[-70.01334132603651, -4.1591746593...\n",
       "196151  196151  ...  {\"paths\": [[[-69.97708333333361, -4.1854166666...\n",
       "196152  196152  ...  {\"paths\": [[[-69.94918764066375, -4.2229166666...\n",
       "196153  196153  ...  {\"paths\": [[[-69.95208333333366, -4.2229166666...\n",
       "\n",
       "[196154 rows x 19 columns]"
      ]
     },
     "execution_count": 26,
     "metadata": {},
     "output_type": "execute_result"
    }
   ],
   "source": [
    "rivers_col = r\"RiversColombia.shp\"\n",
    "rivers_colombia = pd.DataFrame.spatial.from_featureclass(os.path.join(path_rivers, rivers_col), sr=SpatialReference(4326).as_arcpy)\n",
    "rivers_colombia"
   ]
  },
  {
   "cell_type": "code",
   "execution_count": 27,
   "metadata": {},
   "outputs": [
    {
     "data": {
      "application/vnd.jupyter.widget-view+json": {
       "model_id": "3b95ac457dab4193b1fcdcfa4b807174",
       "version_major": 2,
       "version_minor": 0
      },
      "text/plain": [
       "MapView(layout=Layout(height='400px', width='100%'))"
      ]
     },
     "metadata": {},
     "output_type": "display_data"
    },
    {
     "data": {
      "text/html": [
       "<div class=\"map-static-img-preview-19c6fc33-7c3a-461a-86b3-bd3f1b26a46e\"><img src=\"\"></img></div>"
      ],
      "text/plain": [
       "<display.HTML object>"
      ]
     },
     "metadata": {},
     "output_type": "display_data"
    },
    {
     "data": {
      "text/html": [
       "<div class=\"map-html-embed-preview-19c6fc33-7c3a-461a-86b3-bd3f1b26a46e\"></div>"
      ],
      "text/plain": [
       "<display.HTML object>"
      ]
     },
     "metadata": {},
     "output_type": "display_data"
    }
   ],
   "source": [
    "map4 = gis.map(\"Bogotá\", 5)\n",
    "map4.center = [5, -74]\n",
    "map4.add_layer(boundary_col)\n",
    "map4.add_layer(rivers_colombia)\n",
    "map4.basemap = 'hybrid'\n",
    "map4"
   ]
  }
 ],
 "metadata": {
  "kernelspec": {
   "display_name": "Python 3 (ipykernel)",
   "language": "python",
   "name": "python3"
  },
  "language_info": {
   "file_extension": ".py",
   "name": "python",
   "version": "3"
  }
 },
 "nbformat": 4,
 "nbformat_minor": 2
}
